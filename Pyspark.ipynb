{
 "cells": [
  {
   "cell_type": "code",
   "execution_count": 13,
   "metadata": {},
   "outputs": [],
   "source": [
    "from pyspark.sql import SparkSession \n",
    "spark = SparkSession.builder.appName('practice').getOrCreate()\n"
   ]
  },
  {
   "cell_type": "code",
   "execution_count": 20,
   "metadata": {},
   "outputs": [],
   "source": [
    "df_pyspark=spark.read.csv('ecomorders.csv')"
   ]
  },
  {
   "cell_type": "code",
   "execution_count": 21,
   "metadata": {},
   "outputs": [
    {
     "name": "stdout",
     "output_type": "stream",
     "text": [
      "+-------+--------+-----------+--------------------+----------+--------------------+----------------+----------------+-----+---------------+-----------+--------------+--------------------+----------------+-------------------+--------------+\n",
      "|    _c0|     _c1|        _c2|                 _c3|       _c4|                 _c5|             _c6|             _c7|  _c8|            _c9|       _c10|          _c11|                _c12|            _c13|               _c14|          _c15|\n",
      "+-------+--------+-----------+--------------------+----------+--------------------+----------------+----------------+-----+---------------+-----------+--------------+--------------------+----------------+-------------------+--------------+\n",
      "|row_num|order_id|customer_id|       customer_name|product_id|        product_name|product_category|    payment_type|price|       datetime|    country|          city|eommerce_website_...|  payment_txn_id|payment_txn_success|failure_reason|\n",
      "|    217|   10248|         83|Vins et alcools C...|        11|      Queso Cabrales|  Dairy Products|            Card|   14|6/19/2022 13:37|     France|         Reims|          amazon.com|  INTGFD23DB3C99|                  Y|          null|\n",
      "|   1109|   10248|         83|Vins et alcools C...|        42|Singaporean Hokki...|  Grains/Cereals|            Card|  9.8|6/19/2022 13:37|     France|         Reims|          amazon.com|  INTGFD23DB3C99|                  Y|          null|\n",
      "|   1968|   10248|         83|Vins et alcools C...|        72|Mozzarella di Gio...|  Dairy Products|            Card| 34.8|6/19/2022 13:37|     France|         Reims|          amazon.com|  INTGFD23DB3C99|                  N|  Out of Stock|\n",
      "|    309|   10249|         77|Toms SpezialitÃƒÆ...|        14|                Tofu|         Produce|Internet Banking| 18.6|4/15/2022 22:55|    Germany|MÃƒÆ’Ã‚Â¼nster|internationalfood...| INTGFD23DB3D904|                  Y|          null|\n",
      "|   1290|   10249|         77|Toms SpezialitÃƒÆ...|        51|Manjimup Dried Ap...|         Produce|Internet Banking| 42.4|4/15/2022 22:55|    Germany|MÃƒÆ’Ã‚Â¼nster|internationalfood...| INTGFD23DB3D904|                  Y|          null|\n",
      "|   1062|   10250|         33|       Hanari Carnes|        41|Jack's New Englan...|         Seafood|Internet Banking|  7.7| 1/28/2022 1:28|     Brazil|Rio de Janeiro|internationalfood...| INTGFD23DB3C328|                  Y|          null|\n",
      "|   1291|   10250|         33|       Hanari Carnes|        51|Manjimup Dried Ap...|         Produce|Internet Banking| 42.4| 1/28/2022 1:28|     Brazil|Rio de Janeiro|internationalfood...| INTGFD23DB3C328|                  Y|          null|\n",
      "|   1772|   10250|         33|       Hanari Carnes|        65|Louisiana Fiery H...|      Condiments|Internet Banking| 16.8| 1/28/2022 1:28|     Brazil|Rio de Janeiro|internationalfood...| INTGFD23DB3C328|                  Y|          null|\n",
      "|    536|   10251|         82|Victuailles en stock|        22|Gustaf's KnÃƒÆ’Ã‚...|  Grains/Cereals|Internet Banking| 16.8| 6/25/2022 6:51|     France|          Lyon|          amazon.com| INTGFD23DB3C214|                  Y|          null|\n",
      "|   1507|   10251|         82|Victuailles en stock|        57|      Ravioli Angelo|  Grains/Cereals|Internet Banking| 15.6| 6/25/2022 6:51|     France|          Lyon|          amazon.com| INTGFD23DB3C214|                  Y|          null|\n",
      "|   1773|   10251|         82|Victuailles en stock|        65|Louisiana Fiery H...|      Condiments|Internet Banking| 16.8| 6/25/2022 6:51|     France|          Lyon|          amazon.com| INTGFD23DB3C214|                  Y|          null|\n",
      "|    481|   10252|         74|SuprÃƒÆ’Ã‚Âªmes d...|        20|Sir Rodney's Marm...|     Confections|Internet Banking| 64.8| 2/6/2022 13:54|    Belgium|     Charleroi|     yummybazaar.com| INTGFD23DB3C196|                  Y|          null|\n",
      "|    843|   10252|         74|SuprÃƒÆ’Ã‚Âªmes d...|        33|             Geitost|  Dairy Products|Internet Banking|    2| 2/6/2022 13:54|    Belgium|     Charleroi|     yummybazaar.com| INTGFD23DB3C196|                  Y|          null|\n",
      "|   1602|   10252|         74|SuprÃƒÆ’Ã‚Âªmes d...|        60|   Camembert Pierrot|  Dairy Products|Internet Banking| 27.2| 2/6/2022 13:54|    Belgium|     Charleroi|     yummybazaar.com| INTGFD23DB3C196|                  Y|          null|\n",
      "|    777|   10253|         33|       Hanari Carnes|        31|   Gorgonzola Telino|  Dairy Products|Internet Banking|   10| 6/23/2022 4:25|     Brazil|Rio de Janeiro|internationalfood...|INTGFD23DB3D1891|                  Y|          null|\n",
      "|    991|   10253|         33|       Hanari Carnes|        39|    Chartreuse verte|       Beverages|Internet Banking| 14.4| 6/23/2022 4:25|     Brazil|Rio de Janeiro|internationalfood...|INTGFD23DB3D1891|                  Y|          null|\n",
      "|   1259|   10253|         33|       Hanari Carnes|        49|            Maxilaku|     Confections|Internet Banking|   16| 6/23/2022 4:25|     Brazil|Rio de Janeiro|internationalfood...|INTGFD23DB3D1891|                  Y|          null|\n",
      "|    570|   10254|         14|   Chop-suey Chinese|        24|GuaranÃƒÆ’Ã‚Â¡ Fa...|       Beverages|Internet Banking|  3.6| 3/16/2022 2:38|Switzerland|          Bern|     yummybazaar.com| INTGFD23DB3C222|                  Y|          null|\n",
      "|   1424|   10254|         14|   Chop-suey Chinese|        55|PÃƒÆ’Ã‚Â¢tÃƒÆ’Ã‚Â...|    Meat/Poultry|Internet Banking| 19.2| 3/16/2022 2:38|Switzerland|          Bern|     yummybazaar.com| INTGFD23DB3C222|                  N|  Out of Stock|\n",
      "+-------+--------+-----------+--------------------+----------+--------------------+----------------+----------------+-----+---------------+-----------+--------------+--------------------+----------------+-------------------+--------------+\n",
      "only showing top 20 rows\n",
      "\n"
     ]
    }
   ],
   "source": [
    "df_pyspark.show()"
   ]
  },
  {
   "cell_type": "code",
   "execution_count": 22,
   "metadata": {},
   "outputs": [
    {
     "data": {
      "text/html": [
       "\n",
       "            <div>\n",
       "                <p><b>SparkSession - in-memory</b></p>\n",
       "                \n",
       "        <div>\n",
       "            <p><b>SparkContext</b></p>\n",
       "\n",
       "            <p><a href=\"http://RileysDesktop:4040\">Spark UI</a></p>\n",
       "\n",
       "            <dl>\n",
       "              <dt>Version</dt>\n",
       "                <dd><code>v3.3.0</code></dd>\n",
       "              <dt>Master</dt>\n",
       "                <dd><code>local[*]</code></dd>\n",
       "              <dt>AppName</dt>\n",
       "                <dd><code>practice</code></dd>\n",
       "            </dl>\n",
       "        </div>\n",
       "        \n",
       "            </div>\n",
       "        "
      ],
      "text/plain": [
       "<pyspark.sql.session.SparkSession at 0x1367f4a3820>"
      ]
     },
     "execution_count": 22,
     "metadata": {},
     "output_type": "execute_result"
    }
   ],
   "source": [
    "spark\n"
   ]
  }
 ],
 "metadata": {
  "kernelspec": {
   "display_name": "Python 3.10.5 64-bit (windows store)",
   "language": "python",
   "name": "python3"
  },
  "language_info": {
   "name": "python",
   "version": "3.10.5"
  },
  "orig_nbformat": 4,
  "vscode": {
   "interpreter": {
    "hash": "f9da2ac6e8db2c2a5ceb4b1021bba672c14aecf18974cf279daeee77ccd7060a"
   }
  }
 },
 "nbformat": 4,
 "nbformat_minor": 2
}
